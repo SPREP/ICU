{
 "cells": [
  {
   "cell_type": "markdown",
   "metadata": {},
   "source": [
    "# Calculates and plots the *NIWA SOI*"
   ]
  },
  {
   "cell_type": "markdown",
   "metadata": {},
   "source": [
    "The NIWA SOI is calculated using the Troup method, where the climatological period is taken to be 1941-2010:\n",
    "\n",
    "Thus, if T and D are the monthly pressures at Tahiti and Darwin, respectively, and Tc and Dc the climatological monthly pressures, then:\n",
    "\n",
    "```\n",
    "SOI    =   [ (T – Tc) – (D – Dc) ]  /  [ StDev (T – D)  ]\n",
    "```\n",
    "So the numerator is the anomalous Tahiti-Darwin difference for the month in question, and the denominator is the standard deviation of\n",
    "the Tahiti-Darwin differences for that month over the 1941-2010 climatological period. I then round the answer to the nearest tenth\n",
    "(ie, 1 decimal place)."
   ]
  },
  {
   "cell_type": "code",
   "execution_count": 1,
   "metadata": {
    "collapsed": true
   },
   "outputs": [],
   "source": [
    "%matplotlib inline"
   ]
  },
  {
   "cell_type": "markdown",
   "metadata": {},
   "source": [
    "### imports"
   ]
  },
  {
   "cell_type": "code",
   "execution_count": 2,
   "metadata": {
    "collapsed": true
   },
   "outputs": [],
   "source": [
    "import os\n",
    "import sys\n",
    "import matplotlib as mpl\n",
    "import matplotlib.pyplot as plt\n",
    "import pandas as pd\n",
    "import numpy as np\n",
    "from numpy import ma\n",
    "import urllib2\n",
    "import requests\n",
    "from matplotlib.dates import YearLocator, MonthLocator, DateFormatter\n",
    "from dateutil import parser as dparser\n",
    "from datetime import datetime, timedelta\n",
    "import subprocess"
   ]
  },
  {
   "cell_type": "markdown",
   "metadata": {},
   "source": [
    "### defines a function to get the BoM SLP data for Tahiti or Darwin"
   ]
  },
  {
   "cell_type": "code",
   "execution_count": 4,
   "metadata": {
    "collapsed": false
   },
   "outputs": [],
   "source": [
    "def get_BOM_MSLP(station='tahiti', proxies={}):\n",
    "    url = \"ftp://ftp.bom.gov.au/anon/home/ncc/www/sco/soi/{}mslp.html\".format(station)\n",
    "    r = urllib2.urlopen(url)\n",
    "    if r.code == 200:\n",
    "        print(\"streaming MSLP data for {} successful\\n\".format(station))\n",
    "    else:\n",
    "        print(\"!!! unable to stream MSLP data for {}\\n\".format(station))\n",
    "        sys.exit(1)\n",
    "    data = r.readlines()\n",
    "    r.close()\n",
    "    fout = open('./{}_text'.format(station), 'w')\n",
    "    if station == 'tahiti':\n",
    "        data = data[15:-3]\n",
    "    else:\n",
    "        data = data[14:-3]\n",
    "    fout.writelines(data)\n",
    "    fout.close()\n",
    "    data = pd.read_table('./{}_text'.format(station),sep='\\s*', \\\n",
    "                         engine='python', na_values='*', index_col=['Year'])\n",
    "    subprocess.Popen([\"rm {}*\".format(station)], shell=True, stdout=True).communicate()\n",
    "    return(data)"
   ]
  },
  {
   "cell_type": "markdown",
   "metadata": {},
   "source": [
    "### set up the paths"
   ]
  },
  {
   "cell_type": "code",
   "execution_count": 5,
   "metadata": {
    "collapsed": true
   },
   "outputs": [],
   "source": [
    "# figure\n",
    "fpath = os.path.join(os.environ['HOME'], 'operational/ICU/indices/figures')\n",
    "# csv file\n",
    "opath = os.path.join(os.environ['HOME'], 'operational/ICU/indices/data')"
   ]
  },
  {
   "cell_type": "markdown",
   "metadata": {
    "collapsed": true
   },
   "source": [
    "### set up the plotting parameters"
   ]
  },
  {
   "cell_type": "code",
   "execution_count": 23,
   "metadata": {
    "collapsed": true
   },
   "outputs": [],
   "source": [
    "years   = YearLocator()\n",
    "months  = MonthLocator()\n",
    "mFMT = DateFormatter('%b')\n",
    "yFMT = DateFormatter('\\n\\n%Y')\n",
    "mpl.rcParams['xtick.labelsize'] = 12\n",
    "mpl.rcParams['ytick.labelsize'] = 12\n",
    "mpl.rcParams['axes.titlesize'] = 14\n",
    "mpl.rcParams['xtick.direction'] = 'out'\n",
    "mpl.rcParams['ytick.direction'] = 'out'\n",
    "mpl.rcParams['xtick.major.size'] = 5\n",
    "mpl.rcParams['ytick.major.size'] = 5\n",
    "mpl.rcParams['xtick.minor.size'] = 2"
   ]
  },
  {
   "cell_type": "markdown",
   "metadata": {},
   "source": [
    "### set up proxies"
   ]
  },
  {
   "cell_type": "code",
   "execution_count": 8,
   "metadata": {
    "collapsed": true
   },
   "outputs": [],
   "source": [
    "proxies = {}\n",
    "proxies['http'] = 'http://www-proxy.niwa.co.nz:80'\n",
    "proxies['https'] = 'http://www-proxy.niwa.co.nz:80'\n",
    "proxies['ftp'] = 'http://www-proxy.niwa.co.nz:80'\n",
    "\n",
    "### use urllib2 to open remote http files\n",
    "urllib2proxy = urllib2.ProxyHandler(proxies)\n",
    "opener = urllib2.build_opener(urllib2proxy)\n",
    "urllib2.install_opener(opener)"
   ]
  },
  {
   "cell_type": "markdown",
   "metadata": {},
   "source": [
    "### preliminary: wet get the date for which the next update is likely to be made available"
   ]
  },
  {
   "cell_type": "code",
   "execution_count": 9,
   "metadata": {
    "collapsed": false
   },
   "outputs": [
    {
     "name": "stdout",
     "output_type": "stream",
     "text": [
      "Next SOI update expected: Monday 4, May 2015\n",
      "==========\n",
      "\n"
     ]
    }
   ],
   "source": [
    "url = \"http://www.bom.gov.au/climate/current/soihtm1.shtml\"\n",
    "r = requests.get(url, proxies=proxies)\n",
    "urlcontent = r.content\n",
    "date_update = urlcontent[urlcontent.find(\"Next SOI update expected:\"):\\\n",
    "                         urlcontent.find(\"Next SOI update expected:\")+60]\n",
    "date_update = date_update.split(\"\\n\")[0]\n",
    "print date_update\n",
    "print(10*'='+'\\n')"
   ]
  },
  {
   "cell_type": "markdown",
   "metadata": {},
   "source": [
    "### Get the data for Tahiti"
   ]
  },
  {
   "cell_type": "code",
   "execution_count": 10,
   "metadata": {
    "collapsed": false
   },
   "outputs": [
    {
     "name": "stdout",
     "output_type": "stream",
     "text": [
      "streaming MSLP data for tahiti successful\n",
      "\n"
     ]
    }
   ],
   "source": [
    "tahitidf = get_BOM_MSLP(station='tahiti')\n"
   ]
  },
  {
   "cell_type": "markdown",
   "metadata": {},
   "source": [
    "### Get the data for Darwin"
   ]
  },
  {
   "cell_type": "code",
   "execution_count": 11,
   "metadata": {
    "collapsed": false
   },
   "outputs": [
    {
     "name": "stdout",
     "output_type": "stream",
     "text": [
      "streaming MSLP data for darwin successful\n",
      "\n"
     ]
    }
   ],
   "source": [
    "darwindf = get_BOM_MSLP(station='darwin')"
   ]
  },
  {
   "cell_type": "markdown",
   "metadata": {},
   "source": [
    "### defines climatological period here"
   ]
  },
  {
   "cell_type": "code",
   "execution_count": 14,
   "metadata": {
    "collapsed": true
   },
   "outputs": [],
   "source": [
    "clim_start = 1941\n",
    "clim_end = 2010\n",
    "clim = \"{}_{}\".format(clim_start, clim_end)"
   ]
  },
  {
   "cell_type": "markdown",
   "metadata": {},
   "source": [
    "### calculates the climatology"
   ]
  },
  {
   "cell_type": "code",
   "execution_count": 15,
   "metadata": {
    "collapsed": true
   },
   "outputs": [],
   "source": [
    "tahiti_cli = tahitidf.loc[clim_start:clim_end,:]\n",
    "darwin_cli = darwindf.loc[clim_start:clim_end,:]\n",
    "\n",
    "tahiti_mean = tahiti_cli.mean(0)\n",
    "darwin_mean = darwin_cli.mean(0)"
   ]
  },
  {
   "cell_type": "markdown",
   "metadata": {},
   "source": [
    "### Calculates the SOI"
   ]
  },
  {
   "cell_type": "code",
   "execution_count": 28,
   "metadata": {
    "collapsed": false
   },
   "outputs": [],
   "source": [
    "soi = ((tahitidf - tahiti_mean) - (darwindf - darwin_mean)) / ((tahiti_cli -  darwin_cli).std(0))\n",
    "\n",
    "soi = np.round(soi, 1)"
   ]
  },
  {
   "cell_type": "code",
   "execution_count": 29,
   "metadata": {
    "collapsed": false
   },
   "outputs": [
    {
     "data": {
      "text/html": [
       "<div style=\"max-height:1000px;max-width:1500px;overflow:auto;\">\n",
       "<table border=\"1\" class=\"dataframe\">\n",
       "  <thead>\n",
       "    <tr style=\"text-align: right;\">\n",
       "      <th></th>\n",
       "      <th>Jan</th>\n",
       "      <th>Feb</th>\n",
       "      <th>Mar</th>\n",
       "      <th>Apr</th>\n",
       "      <th>May</th>\n",
       "      <th>Jun</th>\n",
       "      <th>Jul</th>\n",
       "      <th>Aug</th>\n",
       "      <th>Sep</th>\n",
       "      <th>Oct</th>\n",
       "      <th>Nov</th>\n",
       "      <th>Dec</th>\n",
       "    </tr>\n",
       "    <tr>\n",
       "      <th>Year</th>\n",
       "      <th></th>\n",
       "      <th></th>\n",
       "      <th></th>\n",
       "      <th></th>\n",
       "      <th></th>\n",
       "      <th></th>\n",
       "      <th></th>\n",
       "      <th></th>\n",
       "      <th></th>\n",
       "      <th></th>\n",
       "      <th></th>\n",
       "      <th></th>\n",
       "    </tr>\n",
       "  </thead>\n",
       "  <tbody>\n",
       "    <tr>\n",
       "      <th>2011</th>\n",
       "      <td>2.0</td>\n",
       "      <td>2.0</td>\n",
       "      <td>2.1</td>\n",
       "      <td>2.3</td>\n",
       "      <td>0.3</td>\n",
       "      <td>0.1</td>\n",
       "      <td>1.1</td>\n",
       "      <td>0.2</td>\n",
       "      <td>1.1</td>\n",
       "      <td>0.7</td>\n",
       "      <td>1.3</td>\n",
       "      <td>2.2</td>\n",
       "    </tr>\n",
       "    <tr>\n",
       "      <th>2012</th>\n",
       "      <td>1.0</td>\n",
       "      <td>0.2</td>\n",
       "      <td>0.3</td>\n",
       "      <td>-0.5</td>\n",
       "      <td>-0.1</td>\n",
       "      <td>-1.0</td>\n",
       "      <td>-0.1</td>\n",
       "      <td>-0.5</td>\n",
       "      <td>0.2</td>\n",
       "      <td>0.2</td>\n",
       "      <td>0.3</td>\n",
       "      <td>-0.7</td>\n",
       "    </tr>\n",
       "    <tr>\n",
       "      <th>2013</th>\n",
       "      <td>-0.1</td>\n",
       "      <td>-0.3</td>\n",
       "      <td>1.1</td>\n",
       "      <td>0.1</td>\n",
       "      <td>0.9</td>\n",
       "      <td>1.5</td>\n",
       "      <td>0.9</td>\n",
       "      <td>-0.0</td>\n",
       "      <td>0.3</td>\n",
       "      <td>-0.2</td>\n",
       "      <td>0.8</td>\n",
       "      <td>-0.0</td>\n",
       "    </tr>\n",
       "    <tr>\n",
       "      <th>2014</th>\n",
       "      <td>1.2</td>\n",
       "      <td>-0.1</td>\n",
       "      <td>-1.2</td>\n",
       "      <td>0.9</td>\n",
       "      <td>0.6</td>\n",
       "      <td>-0.1</td>\n",
       "      <td>-0.3</td>\n",
       "      <td>-1.1</td>\n",
       "      <td>-0.8</td>\n",
       "      <td>-0.8</td>\n",
       "      <td>-1.0</td>\n",
       "      <td>-0.6</td>\n",
       "    </tr>\n",
       "    <tr>\n",
       "      <th>2015</th>\n",
       "      <td>-0.7</td>\n",
       "      <td>0.0</td>\n",
       "      <td>-1.0</td>\n",
       "      <td>NaN</td>\n",
       "      <td>NaN</td>\n",
       "      <td>NaN</td>\n",
       "      <td>NaN</td>\n",
       "      <td>NaN</td>\n",
       "      <td>NaN</td>\n",
       "      <td>NaN</td>\n",
       "      <td>NaN</td>\n",
       "      <td>NaN</td>\n",
       "    </tr>\n",
       "  </tbody>\n",
       "</table>\n",
       "</div>"
      ],
      "text/plain": [
       "      Jan  Feb  Mar  Apr  May  Jun  Jul  Aug  Sep  Oct  Nov  Dec\n",
       "Year                                                            \n",
       "2011  2.0  2.0  2.1  2.3  0.3  0.1  1.1  0.2  1.1  0.7  1.3  2.2\n",
       "2012  1.0  0.2  0.3 -0.5 -0.1 -1.0 -0.1 -0.5  0.2  0.2  0.3 -0.7\n",
       "2013 -0.1 -0.3  1.1  0.1  0.9  1.5  0.9 -0.0  0.3 -0.2  0.8 -0.0\n",
       "2014  1.2 -0.1 -1.2  0.9  0.6 -0.1 -0.3 -1.1 -0.8 -0.8 -1.0 -0.6\n",
       "2015 -0.7  0.0 -1.0  NaN  NaN  NaN  NaN  NaN  NaN  NaN  NaN  NaN"
      ]
     },
     "execution_count": 29,
     "metadata": {},
     "output_type": "execute_result"
    }
   ],
   "source": [
    "soi.tail()"
   ]
  },
  {
   "cell_type": "markdown",
   "metadata": {},
   "source": [
    "### writes the CSV file"
   ]
  },
  {
   "cell_type": "code",
   "execution_count": 30,
   "metadata": {
    "collapsed": true
   },
   "outputs": [],
   "source": [
    "soi.to_csv(os.path.join(opath, \"NICO_NIWA_SOI_{}.csv\".format(clim)))"
   ]
  },
  {
   "cell_type": "markdown",
   "metadata": {},
   "source": [
    "### stacks everything and set a Datetime index"
   ]
  },
  {
   "cell_type": "code",
   "execution_count": 31,
   "metadata": {
    "collapsed": false
   },
   "outputs": [],
   "source": [
    "ts_soi = pd.DataFrame(soi.stack())\n",
    "\n",
    "dates = []\n",
    "for i in xrange(len(ts_soi)):\n",
    "    dates.append(dparser.parse(\"{}-{}-1\".format(ts_soi.index.get_level_values(0)[i], ts_soi.index.get_level_values(1)[i])))\n",
    "\n",
    "ts_soi.index = dates\n",
    "ts_soi.columns = [['soi']]"
   ]
  },
  {
   "cell_type": "code",
   "execution_count": 33,
   "metadata": {
    "collapsed": false
   },
   "outputs": [
    {
     "data": {
      "text/html": [
       "<div style=\"max-height:1000px;max-width:1500px;overflow:auto;\">\n",
       "<table border=\"1\" class=\"dataframe\">\n",
       "  <thead>\n",
       "    <tr style=\"text-align: right;\">\n",
       "      <th></th>\n",
       "      <th>soi</th>\n",
       "    </tr>\n",
       "  </thead>\n",
       "  <tbody>\n",
       "    <tr>\n",
       "      <th>2014-11-01</th>\n",
       "      <td>-1.0</td>\n",
       "    </tr>\n",
       "    <tr>\n",
       "      <th>2014-12-01</th>\n",
       "      <td>-0.6</td>\n",
       "    </tr>\n",
       "    <tr>\n",
       "      <th>2015-01-01</th>\n",
       "      <td>-0.7</td>\n",
       "    </tr>\n",
       "    <tr>\n",
       "      <th>2015-02-01</th>\n",
       "      <td>0.0</td>\n",
       "    </tr>\n",
       "    <tr>\n",
       "      <th>2015-03-01</th>\n",
       "      <td>-1.0</td>\n",
       "    </tr>\n",
       "  </tbody>\n",
       "</table>\n",
       "</div>"
      ],
      "text/plain": [
       "            soi\n",
       "2014-11-01 -1.0\n",
       "2014-12-01 -0.6\n",
       "2015-01-01 -0.7\n",
       "2015-02-01  0.0\n",
       "2015-03-01 -1.0"
      ]
     },
     "execution_count": 33,
     "metadata": {},
     "output_type": "execute_result"
    }
   ],
   "source": [
    "ts_soi.tail()"
   ]
  },
  {
   "cell_type": "markdown",
   "metadata": {},
   "source": [
    "### choose the period of display"
   ]
  },
  {
   "cell_type": "code",
   "execution_count": 34,
   "metadata": {
    "collapsed": true
   },
   "outputs": [],
   "source": [
    "ts_soi = ts_soi.truncate(before=\"2012/1/1\")"
   ]
  },
  {
   "cell_type": "markdown",
   "metadata": {},
   "source": [
    "### 3 months rolling mean, and some data munging"
   ]
  },
  {
   "cell_type": "code",
   "execution_count": 35,
   "metadata": {
    "collapsed": false
   },
   "outputs": [],
   "source": [
    "ts_soi[['soirm']] = pd.rolling_mean(ts_soi, 3, center=True)\n",
    "\n",
    "dates = np.array(ts_soi.index.to_pydatetime())\n",
    "widths=np.array([(dates[j+1]-dates[j]).days for j in range(len(dates)-1)] + [30])\n",
    "\n",
    "### middle of the month for the 3 month running mean plot\n",
    "datesrm = np.array([x + timedelta(days=15) for x in dates])\n",
    "\n",
    "soi = ts_soi['soi'].values\n",
    "soim = ts_soi['soirm'].values"
   ]
  },
  {
   "cell_type": "markdown",
   "metadata": {},
   "source": [
    "### plots the SOI, lots of boilerplate here"
   ]
  },
  {
   "cell_type": "code",
   "execution_count": 36,
   "metadata": {
    "collapsed": false
   },
   "outputs": [
    {
     "data": {
      "text/plain": [
       "<matplotlib.text.Text at 0x10cd7f890>"
      ]
     },
     "execution_count": 36,
     "metadata": {},
     "output_type": "execute_result"
    },
    {
     "data": {
      "image/png": "[encoded data removed]",
      "text/plain": [
       "<matplotlib.figure.Figure at 0x10a817250>"
      ]
     },
     "metadata": {},
     "output_type": "display_data"
    }
   ],
   "source": [
    "fig, ax = plt.subplots(figsize=(14,7))\n",
    "fig.subplots_adjust(bottom=0.15)\n",
    "\n",
    "\n",
    "ax.bar(dates[soi>=0],soi[soi>=0], width=widths[soi>=0], facecolor='steelblue', \\\n",
    "       alpha=.8, edgecolor='steelblue', lw=2)\n",
    "\n",
    "ax.bar(dates[soi<0],soi[soi<0], width=widths[soi<0], facecolor='coral', \\\n",
    "       alpha=.8, edgecolor='coral', lw=2)\n",
    "\n",
    "ax.plot(datesrm,soim, lw=3, color='k', label='3-mth mean')\n",
    "\n",
    "ax.xaxis.set_minor_locator(months)\n",
    "ax.xaxis.set_major_locator(years)\n",
    "ax.xaxis.set_minor_formatter(mFMT)\n",
    "ax.xaxis.set_major_formatter(yFMT)\n",
    "ax.axhline(0, color='k')\n",
    "\n",
    "#ax.set_frame_on(False)\n",
    "labels = ax.get_xminorticklabels()\n",
    "for label in labels:\n",
    "    label.set_fontsize(14)\n",
    "    label.set_rotation(90)\n",
    "labels = ax.get_xmajorticklabels()\n",
    "for label in labels:\n",
    "    label.set_fontsize(18)\n",
    "labels = ax.get_yticklabels()\n",
    "for label in labels:\n",
    "    label.set_fontsize(18)\n",
    "\n",
    "ax.grid(linestyle='--')\n",
    "ax.xaxis.grid(True, which='both')\n",
    "ax.legend(loc=3, fancybox=True)\n",
    "ax.set_ylim(-3., 3.)\n",
    "ax.set_ylabel('Monthly SOI (NIWA)', fontsize=14, backgroundcolor=\"w\")\n",
    "ax.text(dates[0],3.2,\"NIWA SOI\", fontsize=24, fontweight='bold')\n",
    "ax.text(dates[-5], 2.8, \"%s NIWA Ltd.\" % (u'\\N{Copyright Sign}'))\n",
    "\n",
    "textBm = \"%s = %+4.1f\" % (dates[-1].strftime(\"%B %Y\"), soi[-1])\n",
    "textBs = \"%s to %s = %+4.1f\" % (dates[-3].strftime(\"%b %Y\"), dates[-1].strftime(\"%b %Y\"), soi[-3:].mean())\n",
    "\n",
    "ax.text(datesrm[8],3.2,\"Latest values: %s, %s\" % (textBm, textBs), fontsize=16)\n",
    "ax.text(datesrm[0],2.8,date_update, fontsize=14)"
   ]
  },
  {
   "cell_type": "markdown",
   "metadata": {},
   "source": [
    "### saves the figure"
   ]
  },
  {
   "cell_type": "code",
   "execution_count": 39,
   "metadata": {
    "collapsed": false
   },
   "outputs": [],
   "source": [
    "fig.savefig(os.path.join(fpath, \"NICO_NIWA_SOI_{}clim.png\".format(clim)), dpi=200)"
   ]
  }
 ],
 "metadata": {
  "kernelspec": {
   "display_name": "Python 2",
   "language": "python",
   "name": "python2"
  },
  "language_info": {
   "codemirror_mode": {
    "name": "ipython",
    "version": 2
   },
   "file_extension": ".py",
   "mimetype": "text/x-python",
   "name": "python",
   "nbconvert_exporter": "python",
   "pygments_lexer": "ipython2",
   "version": "2.7.9"
  }
 },
 "nbformat": 4,
 "nbformat_minor": 0
}
